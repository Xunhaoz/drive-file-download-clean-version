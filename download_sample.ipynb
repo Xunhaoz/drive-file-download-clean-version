{
 "cells": [
  {
   "cell_type": "code",
   "execution_count": 6,
   "id": "4d807abe-02b8-46f8-a32f-a7711d9e6230",
   "metadata": {},
   "outputs": [
    {
     "name": "stdout",
     "output_type": "stream",
     "text": [
      "Collecting google-api-python-client\n",
      "  Using cached google_api_python_client-2.9.0-py2.py3-none-any.whl (7.0 MB)\n",
      "Collecting google-auth-httplib2\n",
      "  Using cached google_auth_httplib2-0.1.0-py2.py3-none-any.whl (9.3 kB)\n",
      "Collecting google-auth-oauthlib\n",
      "  Using cached google_auth_oauthlib-0.4.4-py2.py3-none-any.whl (18 kB)\n",
      "Collecting httplib2<1dev,>=0.15.0\n",
      "  Using cached httplib2-0.19.1-py3-none-any.whl (95 kB)\n",
      "Collecting google-api-core<2dev,>=1.21.0\n",
      "  Using cached google_api_core-1.30.0-py2.py3-none-any.whl (93 kB)\n",
      "Requirement already satisfied: six<2dev,>=1.13.0 in /Users/leegroup/opt/anaconda3/lib/python3.8/site-packages (from google-api-python-client->-r requirements.txt (line 1)) (1.15.0)\n",
      "Collecting google-auth<2dev,>=1.16.0\n",
      "  Using cached google_auth-1.31.0-py2.py3-none-any.whl (147 kB)\n",
      "Collecting uritemplate<4dev,>=3.0.0\n",
      "  Using cached uritemplate-3.0.1-py2.py3-none-any.whl (15 kB)\n",
      "Requirement already satisfied: requests<3.0.0dev,>=2.18.0 in /Users/leegroup/opt/anaconda3/lib/python3.8/site-packages (from google-api-core<2dev,>=1.21.0->google-api-python-client->-r requirements.txt (line 1)) (2.25.1)\n",
      "Requirement already satisfied: packaging>=14.3 in /Users/leegroup/opt/anaconda3/lib/python3.8/site-packages (from google-api-core<2dev,>=1.21.0->google-api-python-client->-r requirements.txt (line 1)) (20.9)\n",
      "Collecting googleapis-common-protos<2.0dev,>=1.6.0\n",
      "  Using cached googleapis_common_protos-1.53.0-py2.py3-none-any.whl (198 kB)\n",
      "Requirement already satisfied: pytz in /Users/leegroup/opt/anaconda3/lib/python3.8/site-packages (from google-api-core<2dev,>=1.21.0->google-api-python-client->-r requirements.txt (line 1)) (2021.1)\n",
      "Collecting protobuf>=3.12.0\n",
      "  Downloading protobuf-3.17.3-cp38-cp38-macosx_10_9_x86_64.whl (1.0 MB)\n",
      "\u001b[K     |████████████████████████████████| 1.0 MB 65 kB/s eta 0:00:01\n",
      "\u001b[?25hRequirement already satisfied: setuptools>=40.3.0 in /Users/leegroup/opt/anaconda3/lib/python3.8/site-packages (from google-api-core<2dev,>=1.21.0->google-api-python-client->-r requirements.txt (line 1)) (52.0.0.post20210125)\n",
      "Collecting pyasn1-modules>=0.2.1\n",
      "  Using cached pyasn1_modules-0.2.8-py2.py3-none-any.whl (155 kB)\n",
      "Collecting rsa<5,>=3.1.4\n",
      "  Using cached rsa-4.7.2-py3-none-any.whl (34 kB)\n",
      "Collecting cachetools<5.0,>=2.0.0\n",
      "  Using cached cachetools-4.2.2-py3-none-any.whl (11 kB)\n",
      "Requirement already satisfied: pyparsing<3,>=2.4.2 in /Users/leegroup/opt/anaconda3/lib/python3.8/site-packages (from httplib2<1dev,>=0.15.0->google-api-python-client->-r requirements.txt (line 1)) (2.4.7)\n",
      "Collecting pyasn1<0.5.0,>=0.4.6\n",
      "  Using cached pyasn1-0.4.8-py2.py3-none-any.whl (77 kB)\n",
      "Requirement already satisfied: urllib3<1.27,>=1.21.1 in /Users/leegroup/opt/anaconda3/lib/python3.8/site-packages (from requests<3.0.0dev,>=2.18.0->google-api-core<2dev,>=1.21.0->google-api-python-client->-r requirements.txt (line 1)) (1.26.4)\n",
      "Requirement already satisfied: idna<3,>=2.5 in /Users/leegroup/opt/anaconda3/lib/python3.8/site-packages (from requests<3.0.0dev,>=2.18.0->google-api-core<2dev,>=1.21.0->google-api-python-client->-r requirements.txt (line 1)) (2.10)\n",
      "Requirement already satisfied: chardet<5,>=3.0.2 in /Users/leegroup/opt/anaconda3/lib/python3.8/site-packages (from requests<3.0.0dev,>=2.18.0->google-api-core<2dev,>=1.21.0->google-api-python-client->-r requirements.txt (line 1)) (4.0.0)\n",
      "Requirement already satisfied: certifi>=2017.4.17 in /Users/leegroup/opt/anaconda3/lib/python3.8/site-packages (from requests<3.0.0dev,>=2.18.0->google-api-core<2dev,>=1.21.0->google-api-python-client->-r requirements.txt (line 1)) (2020.12.5)\n",
      "Collecting requests-oauthlib>=0.7.0\n",
      "  Using cached requests_oauthlib-1.3.0-py2.py3-none-any.whl (23 kB)\n",
      "Collecting oauthlib>=3.0.0\n",
      "  Using cached oauthlib-3.1.1-py2.py3-none-any.whl (146 kB)\n",
      "Installing collected packages: pyasn1, rsa, pyasn1-modules, protobuf, cachetools, oauthlib, httplib2, googleapis-common-protos, google-auth, uritemplate, requests-oauthlib, google-auth-httplib2, google-api-core, google-auth-oauthlib, google-api-python-client\n",
      "Successfully installed cachetools-4.2.2 google-api-core-1.30.0 google-api-python-client-2.9.0 google-auth-1.31.0 google-auth-httplib2-0.1.0 google-auth-oauthlib-0.4.4 googleapis-common-protos-1.53.0 httplib2-0.19.1 oauthlib-3.1.1 protobuf-3.17.3 pyasn1-0.4.8 pyasn1-modules-0.2.8 requests-oauthlib-1.3.0 rsa-4.7.2 uritemplate-3.0.1\n"
     ]
    }
   ],
   "source": [
    "!pip install --upgrade -r requirements.txt"
   ]
  },
  {
   "cell_type": "code",
   "execution_count": 3,
   "id": "e7e13acf-6d1d-4e16-ab02-28fbf48c1a43",
   "metadata": {},
   "outputs": [],
   "source": [
    "from download_util import download_from_raw_to_folder"
   ]
  },
  {
   "cell_type": "code",
   "execution_count": 4,
   "id": "b2247e97-2e98-4c20-9dc0-f09b45196fe8",
   "metadata": {},
   "outputs": [],
   "source": [
    "URLS = \"\"\"\n",
    "https://drive.google.com/file/d/1iUPG0vsA9nK7jJatsy12kHzVkMHKDyGf/view?usp=sharing\n",
    "https://drive.google.com/file/d/1LnBm0TaXuy4sVFqnpNu2fV94mZXocobM/view?usp=sharing\n",
    "https://drive.google.com/file/d/1GmZhUrbmk-gBrcYuBCeVRrvbOiRgTFyF/view?usp=sharing\n",
    "https://drive.google.com/file/d/1KdFh3OpD1zwzuSLb1LCpj5WhI2oyPE8K/view?usp=sharing\n",
    "\"\"\""
   ]
  },
  {
   "cell_type": "code",
   "execution_count": 5,
   "id": "6c2edd66-864e-48e2-adba-0612a0c57dbd",
   "metadata": {},
   "outputs": [
    {
     "name": "stdout",
     "output_type": "stream",
     "text": [
      "find 4 urls\n",
      "1iUPG0vsA9nK7jJatsy12kHzVkMHKDyGf\n",
      "1LnBm0TaXuy4sVFqnpNu2fV94mZXocobM\n",
      "1GmZhUrbmk-gBrcYuBCeVRrvbOiRgTFyF\n",
      "1KdFh3OpD1zwzuSLb1LCpj5WhI2oyPE8K\n",
      "fileIds list\n",
      "['1iUPG0vsA9nK7jJatsy12kHzVkMHKDyGf', '1LnBm0TaXuy4sVFqnpNu2fV94mZXocobM', '1GmZhUrbmk-gBrcYuBCeVRrvbOiRgTFyF', '1KdFh3OpD1zwzuSLb1LCpj5WhI2oyPE8K']\n",
      "****************************************************************************************************\n",
      "current fileId:1iUPG0vsA9nK7jJatsy12kHzVkMHKDyGf, progress:0/4\n",
      "{ 'id': '1iUPG0vsA9nK7jJatsy12kHzVkMHKDyGf',\n",
      "  'kind': 'drive#file',\n",
      "  'mimeType': 'application/vnd.openxmlformats-officedocument.presentationml.presentation',\n",
      "  'name': 'AT083_16_AVer_Camera.pptx',\n",
      "  'parents': ['1QMeFmuJEKrrBeZF58yb_63BZoWdMmJ52'],\n",
      "  'size': '20191079'}\n",
      "start downloading\n",
      "AT083_16_AVer_Camera.pptx Download   100.00%.\n",
      "download complete\n",
      "****************************************************************************************************\n",
      "current fileId:1LnBm0TaXuy4sVFqnpNu2fV94mZXocobM, progress:1/4\n",
      "{ 'id': '1LnBm0TaXuy4sVFqnpNu2fV94mZXocobM',\n",
      "  'kind': 'drive#file',\n",
      "  'mimeType': 'application/vnd.openxmlformats-officedocument.presentationml.presentation',\n",
      "  'name': 'AT083_20_Water_Pattern.pptx',\n",
      "  'parents': ['1QMeFmuJEKrrBeZF58yb_63BZoWdMmJ52'],\n",
      "  'size': '4977520'}\n",
      "start downloading\n",
      "AT083_20_Water_Pattern.pptx Download   100.00%.\n",
      "download complete\n",
      "****************************************************************************************************\n",
      "current fileId:1GmZhUrbmk-gBrcYuBCeVRrvbOiRgTFyF, progress:2/4\n",
      "{ 'id': '1GmZhUrbmk-gBrcYuBCeVRrvbOiRgTFyF',\n",
      "  'kind': 'drive#file',\n",
      "  'mimeType': 'application/vnd.openxmlformats-officedocument.presentationml.presentation',\n",
      "  'name': 'AT083_21_Orig_Score.pptx',\n",
      "  'parents': ['1QMeFmuJEKrrBeZF58yb_63BZoWdMmJ52'],\n",
      "  'size': '2891919'}\n",
      "start downloading\n",
      "AT083_21_Orig_Score.pptx Download   100.00%.\n",
      "download complete\n",
      "****************************************************************************************************\n",
      "current fileId:1KdFh3OpD1zwzuSLb1LCpj5WhI2oyPE8K, progress:3/4\n",
      "{ 'id': '1KdFh3OpD1zwzuSLb1LCpj5WhI2oyPE8K',\n",
      "  'kind': 'drive#file',\n",
      "  'mimeType': 'application/vnd.openxmlformats-officedocument.presentationml.presentation',\n",
      "  'name': 'AT083_22_Water_Pattern.pptx',\n",
      "  'parents': ['1QMeFmuJEKrrBeZF58yb_63BZoWdMmJ52'],\n",
      "  'size': '2557914'}\n",
      "start downloading\n",
      "AT083_22_Water_Pattern.pptx Download   100.00%.\n",
      "download complete\n",
      "Done\n"
     ]
    }
   ],
   "source": [
    "download_from_raw_to_folder(URLS)"
   ]
  },
  {
   "cell_type": "code",
   "execution_count": null,
   "id": "f56c1c73-2747-440c-be32-c0c1de8db584",
   "metadata": {},
   "outputs": [],
   "source": []
  }
 ],
 "metadata": {
  "kernelspec": {
   "display_name": "GoogleDripveApi",
   "language": "python",
   "name": "googledripveapi"
  },
  "language_info": {
   "codemirror_mode": {
    "name": "ipython",
    "version": 3
   },
   "file_extension": ".py",
   "mimetype": "text/x-python",
   "name": "python",
   "nbconvert_exporter": "python",
   "pygments_lexer": "ipython3",
   "version": "3.9.5"
  }
 },
 "nbformat": 4,
 "nbformat_minor": 5
}
