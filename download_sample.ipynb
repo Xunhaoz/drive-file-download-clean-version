{
 "cells": [
  {
   "cell_type": "code",
   "execution_count": 1,
   "id": "4d807abe-02b8-46f8-a32f-a7711d9e6230",
   "metadata": {},
   "outputs": [
    {
     "name": "stdout",
     "output_type": "stream",
     "text": [
      "Requirement already satisfied: google-api-python-client in /Users/leegroup/opt/anaconda3/lib/python3.8/site-packages (from -r requirements.txt (line 1)) (2.11.0)\n",
      "Requirement already satisfied: google-auth-httplib2 in /Users/leegroup/opt/anaconda3/lib/python3.8/site-packages (from -r requirements.txt (line 2)) (0.1.0)\n",
      "Requirement already satisfied: google-auth-oauthlib in /Users/leegroup/opt/anaconda3/lib/python3.8/site-packages (from -r requirements.txt (line 3)) (0.4.4)\n",
      "Requirement already satisfied: six<2dev,>=1.13.0 in /Users/leegroup/opt/anaconda3/lib/python3.8/site-packages (from google-api-python-client->-r requirements.txt (line 1)) (1.15.0)\n",
      "Requirement already satisfied: httplib2<1dev,>=0.15.0 in /Users/leegroup/opt/anaconda3/lib/python3.8/site-packages (from google-api-python-client->-r requirements.txt (line 1)) (0.19.1)\n",
      "Requirement already satisfied: uritemplate<4dev,>=3.0.0 in /Users/leegroup/opt/anaconda3/lib/python3.8/site-packages (from google-api-python-client->-r requirements.txt (line 1)) (3.0.1)\n",
      "Requirement already satisfied: google-auth<2dev,>=1.16.0 in /Users/leegroup/opt/anaconda3/lib/python3.8/site-packages (from google-api-python-client->-r requirements.txt (line 1)) (1.31.0)\n",
      "Requirement already satisfied: google-api-core<2dev,>=1.21.0 in /Users/leegroup/opt/anaconda3/lib/python3.8/site-packages (from google-api-python-client->-r requirements.txt (line 1)) (1.30.0)\n",
      "Requirement already satisfied: packaging>=14.3 in /Users/leegroup/opt/anaconda3/lib/python3.8/site-packages (from google-api-core<2dev,>=1.21.0->google-api-python-client->-r requirements.txt (line 1)) (20.9)\n",
      "Requirement already satisfied: setuptools>=40.3.0 in /Users/leegroup/opt/anaconda3/lib/python3.8/site-packages (from google-api-core<2dev,>=1.21.0->google-api-python-client->-r requirements.txt (line 1)) (52.0.0.post20210125)\n",
      "Requirement already satisfied: protobuf>=3.12.0 in /Users/leegroup/opt/anaconda3/lib/python3.8/site-packages (from google-api-core<2dev,>=1.21.0->google-api-python-client->-r requirements.txt (line 1)) (3.17.3)\n",
      "Requirement already satisfied: googleapis-common-protos<2.0dev,>=1.6.0 in /Users/leegroup/opt/anaconda3/lib/python3.8/site-packages (from google-api-core<2dev,>=1.21.0->google-api-python-client->-r requirements.txt (line 1)) (1.53.0)\n",
      "Requirement already satisfied: requests<3.0.0dev,>=2.18.0 in /Users/leegroup/opt/anaconda3/lib/python3.8/site-packages (from google-api-core<2dev,>=1.21.0->google-api-python-client->-r requirements.txt (line 1)) (2.25.1)\n",
      "Requirement already satisfied: pytz in /Users/leegroup/opt/anaconda3/lib/python3.8/site-packages (from google-api-core<2dev,>=1.21.0->google-api-python-client->-r requirements.txt (line 1)) (2021.1)\n",
      "Requirement already satisfied: rsa<5,>=3.1.4 in /Users/leegroup/opt/anaconda3/lib/python3.8/site-packages (from google-auth<2dev,>=1.16.0->google-api-python-client->-r requirements.txt (line 1)) (4.7.2)\n",
      "Requirement already satisfied: pyasn1-modules>=0.2.1 in /Users/leegroup/opt/anaconda3/lib/python3.8/site-packages (from google-auth<2dev,>=1.16.0->google-api-python-client->-r requirements.txt (line 1)) (0.2.8)\n",
      "Requirement already satisfied: cachetools<5.0,>=2.0.0 in /Users/leegroup/opt/anaconda3/lib/python3.8/site-packages (from google-auth<2dev,>=1.16.0->google-api-python-client->-r requirements.txt (line 1)) (4.2.2)\n",
      "Requirement already satisfied: pyparsing<3,>=2.4.2 in /Users/leegroup/opt/anaconda3/lib/python3.8/site-packages (from httplib2<1dev,>=0.15.0->google-api-python-client->-r requirements.txt (line 1)) (2.4.7)\n",
      "Requirement already satisfied: pyasn1<0.5.0,>=0.4.6 in /Users/leegroup/opt/anaconda3/lib/python3.8/site-packages (from pyasn1-modules>=0.2.1->google-auth<2dev,>=1.16.0->google-api-python-client->-r requirements.txt (line 1)) (0.4.8)\n",
      "Requirement already satisfied: urllib3<1.27,>=1.21.1 in /Users/leegroup/opt/anaconda3/lib/python3.8/site-packages (from requests<3.0.0dev,>=2.18.0->google-api-core<2dev,>=1.21.0->google-api-python-client->-r requirements.txt (line 1)) (1.26.4)\n",
      "Requirement already satisfied: idna<3,>=2.5 in /Users/leegroup/opt/anaconda3/lib/python3.8/site-packages (from requests<3.0.0dev,>=2.18.0->google-api-core<2dev,>=1.21.0->google-api-python-client->-r requirements.txt (line 1)) (2.10)\n",
      "Requirement already satisfied: chardet<5,>=3.0.2 in /Users/leegroup/opt/anaconda3/lib/python3.8/site-packages (from requests<3.0.0dev,>=2.18.0->google-api-core<2dev,>=1.21.0->google-api-python-client->-r requirements.txt (line 1)) (4.0.0)\n",
      "Requirement already satisfied: certifi>=2017.4.17 in /Users/leegroup/opt/anaconda3/lib/python3.8/site-packages (from requests<3.0.0dev,>=2.18.0->google-api-core<2dev,>=1.21.0->google-api-python-client->-r requirements.txt (line 1)) (2020.12.5)\n",
      "Requirement already satisfied: requests-oauthlib>=0.7.0 in /Users/leegroup/opt/anaconda3/lib/python3.8/site-packages (from google-auth-oauthlib->-r requirements.txt (line 3)) (1.3.0)\n",
      "Requirement already satisfied: oauthlib>=3.0.0 in /Users/leegroup/opt/anaconda3/lib/python3.8/site-packages (from requests-oauthlib>=0.7.0->google-auth-oauthlib->-r requirements.txt (line 3)) (3.1.1)\n"
     ]
    }
   ],
   "source": [
    "!pip install --upgrade -r requirements.txt"
   ]
  },
  {
   "cell_type": "code",
   "execution_count": 2,
   "id": "e7e13acf-6d1d-4e16-ab02-28fbf48c1a43",
   "metadata": {},
   "outputs": [],
   "source": [
    "import download_utils"
   ]
  },
  {
   "cell_type": "code",
   "execution_count": 3,
   "id": "33b11f14-24b3-449d-95ac-18bbd993ad7d",
   "metadata": {},
   "outputs": [
    {
     "name": "stdout",
     "output_type": "stream",
     "text": [
      "the parser is use following function\n",
      "def parse_urls_to_fileIds(raw_text):\n",
      "  \"\"\"\\\n",
      "  https://stackoverflow.com/questions/16840038/easiest-way-to-get-file-id-from-url-on-google-apps-script\n",
      "  \"\"\"\n",
      "  pattern = \"([-\\w]{25,})\"\n",
      "  fileIds_list = re.findall(pattern, raw_text)\n",
      "  print(f\"find {len(fileIds_list)} fileIds\")\n",
      "  pprint(fileIds_list)\n",
      "  return fileIds_list\n",
      "\n"
     ]
    }
   ],
   "source": [
    "print(\"the parser is use following function\")\n",
    "import inspect\n",
    "print(inspect.getsource(download_utils.parse_urls_to_fileIds))"
   ]
  },
  {
   "cell_type": "code",
   "execution_count": 4,
   "id": "b2247e97-2e98-4c20-9dc0-f09b45196fe8",
   "metadata": {},
   "outputs": [],
   "source": [
    "URLS = \"\"\"\n",
    "# Not support folder\n",
    "https://drive.google.com/drive/folders/1aQXUUaKQkBDz7cofkil-WyNBPmFSd_DW?usp=sharing # Folder -> not support\n",
    "\n",
    "# Following types are supported\n",
    "https://docs.google.com/spreadsheets/d/1bAyTQqBuUcIVrLYnDXjwCKvliHq_DoU0rwn_CjJFrao/edit#gid=0 # Google Sheet -> *.xlsx\n",
    "https://docs.google.com/presentation/d/1_nvCSaU6UUKOeoCeytfZcZPbg5MoiCCF1zKTPntAXuI/edit?usp=sharing # Google Slide -> *.pptx\n",
    "https://docs.google.com/document/d/1Ad8LR5MlEFsXyrRlCmmyoycxkvQeoUt4rBzNCjeSCfo/edit?usp=sharing # Google doc -> *.docx\n",
    "https://drive.google.com/file/d/1FP7dKwdSiH_YNFU_nm82IWiE-YFyUKfp/view?usp=sharing # Normal File -> work\n",
    "https://drive.google.com/file/d/13n2MpP2xojhXEfuTehnCMhlE0XWOOdXc/view?usp=sharing # Normal File -> work\n",
    "\"\"\""
   ]
  },
  {
   "cell_type": "code",
   "execution_count": 5,
   "id": "6c2edd66-864e-48e2-adba-0612a0c57dbd",
   "metadata": {},
   "outputs": [
    {
     "name": "stdout",
     "output_type": "stream",
     "text": [
      "find 6 fileIds\n",
      "[ '1aQXUUaKQkBDz7cofkil-WyNBPmFSd_DW',\n",
      "  '1bAyTQqBuUcIVrLYnDXjwCKvliHq_DoU0rwn_CjJFrao',\n",
      "  '1_nvCSaU6UUKOeoCeytfZcZPbg5MoiCCF1zKTPntAXuI',\n",
      "  '1Ad8LR5MlEFsXyrRlCmmyoycxkvQeoUt4rBzNCjeSCfo',\n",
      "  '1FP7dKwdSiH_YNFU_nm82IWiE-YFyUKfp',\n",
      "  '13n2MpP2xojhXEfuTehnCMhlE0XWOOdXc']\n",
      "fileIds list\n",
      "['1aQXUUaKQkBDz7cofkil-WyNBPmFSd_DW', '1bAyTQqBuUcIVrLYnDXjwCKvliHq_DoU0rwn_CjJFrao', '1_nvCSaU6UUKOeoCeytfZcZPbg5MoiCCF1zKTPntAXuI', '1Ad8LR5MlEFsXyrRlCmmyoycxkvQeoUt4rBzNCjeSCfo', '1FP7dKwdSiH_YNFU_nm82IWiE-YFyUKfp', '13n2MpP2xojhXEfuTehnCMhlE0XWOOdXc']\n",
      "****************************************************************************************************\n",
      "current fileId:1aQXUUaKQkBDz7cofkil-WyNBPmFSd_DW, progress:0/6\n",
      "{ 'id': '1aQXUUaKQkBDz7cofkil-WyNBPmFSd_DW',\n",
      "  'kind': 'drive#file',\n",
      "  'mimeType': 'application/vnd.google-apps.folder',\n",
      "  'name': 'sample folder',\n",
      "  'parents': ['1KC6i0NkH3EVDknq72PNNZCaQnwpf0cR8']}\n",
      "start downloading\n",
      "1aQXUUaKQkBDz7cofkil-WyNBPmFSd_DW <HttpError 403 when requesting https://www.googleapis.com/drive/v3/files/1aQXUUaKQkBDz7cofkil-WyNBPmFSd_DW?supportsAllDrives=true&alt=media returned \"Only files with binary content can be downloaded. Use Export with Docs Editors files.\". Details: \"[{'domain': 'global', 'reason': 'fileNotDownloadable', 'message': 'Only files with binary content can be downloaded. Use Export with Docs Editors files.', 'locationType': 'parameter', 'location': 'alt'}]\">\n",
      "****************************************************************************************************\n",
      "current fileId:1bAyTQqBuUcIVrLYnDXjwCKvliHq_DoU0rwn_CjJFrao, progress:1/6\n",
      "{ 'id': '1bAyTQqBuUcIVrLYnDXjwCKvliHq_DoU0rwn_CjJFrao',\n",
      "  'kind': 'drive#file',\n",
      "  'mimeType': 'application/vnd.google-apps.spreadsheet',\n",
      "  'name': 'Pixel Art',\n",
      "  'parents': ['1aQXUUaKQkBDz7cofkil-WyNBPmFSd_DW']}\n",
      "start downloading\n",
      "data/Pixel Art.2021-07-02-02-01-49.xlsx Download   100.00%.\n",
      "download complete\n",
      "****************************************************************************************************\n",
      "current fileId:1_nvCSaU6UUKOeoCeytfZcZPbg5MoiCCF1zKTPntAXuI, progress:2/6\n",
      "{ 'id': '1_nvCSaU6UUKOeoCeytfZcZPbg5MoiCCF1zKTPntAXuI',\n",
      "  'kind': 'drive#file',\n",
      "  'mimeType': 'application/vnd.google-apps.presentation',\n",
      "  'name': 'Google Drive API Quick Start',\n",
      "  'parents': ['1aQXUUaKQkBDz7cofkil-WyNBPmFSd_DW']}\n",
      "start downloading\n",
      "data/Google Drive API Quick Start.2021-07-02-02-01-50.pptx Download     0.00%.\n",
      "download complete\n",
      "****************************************************************************************************\n",
      "current fileId:1Ad8LR5MlEFsXyrRlCmmyoycxkvQeoUt4rBzNCjeSCfo, progress:3/6\n",
      "{ 'id': '1Ad8LR5MlEFsXyrRlCmmyoycxkvQeoUt4rBzNCjeSCfo',\n",
      "  'kind': 'drive#file',\n",
      "  'mimeType': 'application/vnd.google-apps.document',\n",
      "  'name': 'South Park Ascii Art',\n",
      "  'parents': ['1aQXUUaKQkBDz7cofkil-WyNBPmFSd_DW']}\n",
      "start downloading\n",
      "data/South Park Ascii Art.2021-07-02-02-01-52.docx Download   100.00%.\n",
      "download complete\n",
      "****************************************************************************************************\n",
      "current fileId:1FP7dKwdSiH_YNFU_nm82IWiE-YFyUKfp, progress:4/6\n",
      "{ 'id': '1FP7dKwdSiH_YNFU_nm82IWiE-YFyUKfp',\n",
      "  'kind': 'drive#file',\n",
      "  'mimeType': 'application/pdf',\n",
      "  'name': 'One does not simply produce funny memes!.pdf',\n",
      "  'parents': ['1aQXUUaKQkBDz7cofkil-WyNBPmFSd_DW'],\n",
      "  'size': '2669102'}\n",
      "start downloading\n",
      "data/One does not simply produce funny memes!.2021-07-02-02-01-53.pdf Download   100.00%.\n",
      "download complete\n",
      "****************************************************************************************************\n",
      "current fileId:13n2MpP2xojhXEfuTehnCMhlE0XWOOdXc, progress:5/6\n",
      "{ 'id': '13n2MpP2xojhXEfuTehnCMhlE0XWOOdXc',\n",
      "  'kind': 'drive#file',\n",
      "  'mimeType': 'image/jpeg',\n",
      "  'name': 'will_smith_confused.jpeg',\n",
      "  'parents': ['1aQXUUaKQkBDz7cofkil-WyNBPmFSd_DW'],\n",
      "  'size': '36147'}\n",
      "start downloading\n",
      "data/will_smith_confused.2021-07-02-02-02-00.jpeg Download   100.00%.\n",
      "download complete\n",
      "Done\n"
     ]
    }
   ],
   "source": [
    "from pathlib import Path\n",
    "Path(\"data\").mkdir(parents=True, exist_ok=True)\n",
    "\n",
    "download_utils.download_from_raw_to_folder(\n",
    "    URLS,\n",
    "    folder_path=\"data\"\n",
    ")"
   ]
  },
  {
   "cell_type": "code",
   "execution_count": null,
   "id": "f56c1c73-2747-440c-be32-c0c1de8db584",
   "metadata": {},
   "outputs": [],
   "source": []
  }
 ],
 "metadata": {
  "kernelspec": {
   "display_name": "GoogleDripveApi",
   "language": "python",
   "name": "googledripveapi"
  },
  "language_info": {
   "codemirror_mode": {
    "name": "ipython",
    "version": 3
   },
   "file_extension": ".py",
   "mimetype": "text/x-python",
   "name": "python",
   "nbconvert_exporter": "python",
   "pygments_lexer": "ipython3",
   "version": "3.9.5"
  }
 },
 "nbformat": 4,
 "nbformat_minor": 5
}
